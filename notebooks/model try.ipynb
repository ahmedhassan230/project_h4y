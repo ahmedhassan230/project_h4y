{
 "cells": [
  {
   "cell_type": "code",
   "execution_count": null,
   "id": "c2a44e18-36dd-458d-9ec5-371b7d348f82",
   "metadata": {},
   "outputs": [],
   "source": [
    "\n",
    "\n",
    "\n",
    "def Use(X_new):\n",
    "    if X_new[\"gender\"]==\"Male\" and X_new[\"smoking\"]== 'Yes' or  X_new[\"alcohol_consumption\"]== \"Moderate\" or X_new[\"activity\"] == 'Sedentary' and X_new[\"age\"] >50\n",
    "        return 'heart' \n",
    "    \n",
    "    elif X_new[\"self_employed\"] == 'No' and X_new[\"sleeping_hrs\"] > 6 or X_new[\"smoking\"]== 'Yes' or X_new[\"alcohol_consumption\"] == \"Moderate\" or X_new[\"sun_exposure\"]==' Insufficient' or X_new[\"activity\"]== 'Sedentary'\n",
    "        return 'mental_health'\n",
    "    elif X_new[\"activity\"]== 'Sedentary' and X_new[\"weight\"] > 120\n",
    "        return 'diabetes'\n",
    "    else \n",
    "        return None\n",
    "        "
   ]
  }
 ],
 "metadata": {
  "kernelspec": {
   "display_name": "Python 3 (ipykernel)",
   "language": "python",
   "name": "python3"
  },
  "language_info": {
   "codemirror_mode": {
    "name": "ipython",
    "version": 3
   },
   "file_extension": ".py",
   "mimetype": "text/x-python",
   "name": "python",
   "nbconvert_exporter": "python",
   "pygments_lexer": "ipython3",
   "version": "3.10.6"
  }
 },
 "nbformat": 4,
 "nbformat_minor": 5
}
