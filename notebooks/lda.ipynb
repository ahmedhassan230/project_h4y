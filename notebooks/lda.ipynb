{
 "cells": [
  {
   "cell_type": "code",
   "execution_count": 7,
   "id": "e3a49086-24ae-4ec7-a28d-497e3837a5e4",
   "metadata": {},
   "outputs": [],
   "source": [
    "import pandas as pd\n",
    "from nltk.corpus import stopwords \n",
    "import string\n",
    "from nltk.stem.wordnet import WordNetLemmatizer\n",
    "from nltk import word_tokenize "
   ]
  },
  {
   "cell_type": "code",
   "execution_count": 2,
   "id": "d0f64323-f735-41d8-ac16-fd6959d2b3ac",
   "metadata": {},
   "outputs": [],
   "source": [
    "file_path='../raw_data/fake_posts.csv'\n",
    "df = pd.read_csv(file_path)"
   ]
  },
  {
   "cell_type": "code",
   "execution_count": 3,
   "id": "67572eac-1d21-4722-a694-001db1019bfc",
   "metadata": {},
   "outputs": [],
   "source": [
    "df['ID'] = range(1, len(df) + 1)\n",
    "df.set_index('ID', inplace=True)"
   ]
  },
  {
   "cell_type": "code",
   "execution_count": 5,
   "id": "ef2f139a-ae5c-4497-bb20-be4f9c3f423b",
   "metadata": {},
   "outputs": [],
   "source": [
    "df['Title']=df['Title'].str.strip()\n",
    "df['Content']=df['Content'].str.strip()"
   ]
  },
  {
   "cell_type": "code",
   "execution_count": 12,
   "id": "17a1a63f-73dc-4be6-9f9c-6f4d40058d8a",
   "metadata": {},
   "outputs": [],
   "source": [
    "\n",
    "\n",
    "def clean (text):\n",
    "\n",
    "    for punctuation in string.punctuation:\n",
    "        text = text.replace(punctuation, ' ') # Remove Punctuation\n",
    "    lowercased = text.lower() # Lower Case\n",
    "    tokenized = word_tokenize(lowercased) # Tokenize\n",
    "    words_only = [word for word in tokenized if word.isalpha()] # Remove numbers\n",
    "    stop_words = set(stopwords.words('english')) # Make stopword list\n",
    "    without_stopwords = [word for word in words_only if not word in stop_words] # Remove Stop Words\n",
    "    lemma=WordNetLemmatizer() # Initiate Lemmatizer\n",
    "    lemmatized = [lemma.lemmatize(word) for word in without_stopwords] # Lemmatize\n",
    "    cleaned = ' '.join(lemmatized) # Join back to a string\n",
    "    return cleaned\n",
    "\n"
   ]
  },
  {
   "cell_type": "code",
   "execution_count": 13,
   "id": "c1da8ac6-9b81-4c35-8b9c-6891168d2ec9",
   "metadata": {},
   "outputs": [
    {
     "data": {
      "text/html": [
       "<div>\n",
       "<style scoped>\n",
       "    .dataframe tbody tr th:only-of-type {\n",
       "        vertical-align: middle;\n",
       "    }\n",
       "\n",
       "    .dataframe tbody tr th {\n",
       "        vertical-align: top;\n",
       "    }\n",
       "\n",
       "    .dataframe thead th {\n",
       "        text-align: right;\n",
       "    }\n",
       "</style>\n",
       "<table border=\"1\" class=\"dataframe\">\n",
       "  <thead>\n",
       "    <tr style=\"text-align: right;\">\n",
       "      <th></th>\n",
       "      <th>Title</th>\n",
       "      <th>Content</th>\n",
       "      <th>clean_text</th>\n",
       "    </tr>\n",
       "    <tr>\n",
       "      <th>ID</th>\n",
       "      <th></th>\n",
       "      <th></th>\n",
       "      <th></th>\n",
       "    </tr>\n",
       "  </thead>\n",
       "  <tbody>\n",
       "    <tr>\n",
       "      <th>1</th>\n",
       "      <td>Let's Talk about the Importance of Foot Care</td>\n",
       "      <td>Hey there health enthusiasts! Today, let's cha...</td>\n",
       "      <td>hey health enthusiast today let chat often neg...</td>\n",
       "    </tr>\n",
       "    <tr>\n",
       "      <th>2</th>\n",
       "      <td>Random Health Benefits of Practicing Tai Chi</td>\n",
       "      <td>Hey guys, it's your favorite health and lifest...</td>\n",
       "      <td>hey guy favorite health lifestyle enthusiast t...</td>\n",
       "    </tr>\n",
       "    <tr>\n",
       "      <th>3</th>\n",
       "      <td>Get Your Heart Pumping with These Seasonal Fit...</td>\n",
       "      <td>Hey there, fitness enthusiasts! Today, I'm her...</td>\n",
       "      <td>hey fitness enthusiast today talk importance s...</td>\n",
       "    </tr>\n",
       "    <tr>\n",
       "      <th>4</th>\n",
       "      <td>The Power of Herbal Teas for Optimal Health</td>\n",
       "      <td>Hey health enthusiast friends! Today, I want t...</td>\n",
       "      <td>hey health enthusiast friend today want talk i...</td>\n",
       "    </tr>\n",
       "    <tr>\n",
       "      <th>5</th>\n",
       "      <td>The Ins and Outs of Proper Handwashing</td>\n",
       "      <td>Yo yo yo, what up my peeps? Today I wanna talk...</td>\n",
       "      <td>yo yo yo peep today wan na talk somethin super...</td>\n",
       "    </tr>\n",
       "  </tbody>\n",
       "</table>\n",
       "</div>"
      ],
      "text/plain": [
       "                                                Title  \\\n",
       "ID                                                      \n",
       "1        Let's Talk about the Importance of Foot Care   \n",
       "2        Random Health Benefits of Practicing Tai Chi   \n",
       "3   Get Your Heart Pumping with These Seasonal Fit...   \n",
       "4         The Power of Herbal Teas for Optimal Health   \n",
       "5              The Ins and Outs of Proper Handwashing   \n",
       "\n",
       "                                              Content  \\\n",
       "ID                                                      \n",
       "1   Hey there health enthusiasts! Today, let's cha...   \n",
       "2   Hey guys, it's your favorite health and lifest...   \n",
       "3   Hey there, fitness enthusiasts! Today, I'm her...   \n",
       "4   Hey health enthusiast friends! Today, I want t...   \n",
       "5   Yo yo yo, what up my peeps? Today I wanna talk...   \n",
       "\n",
       "                                           clean_text  \n",
       "ID                                                     \n",
       "1   hey health enthusiast today let chat often neg...  \n",
       "2   hey guy favorite health lifestyle enthusiast t...  \n",
       "3   hey fitness enthusiast today talk importance s...  \n",
       "4   hey health enthusiast friend today want talk i...  \n",
       "5   yo yo yo peep today wan na talk somethin super...  "
      ]
     },
     "execution_count": 13,
     "metadata": {},
     "output_type": "execute_result"
    }
   ],
   "source": [
    "# Apply to all texts\n",
    "df['clean_text'] = df['Content'].apply(clean)\n",
    "\n",
    "df.head()"
   ]
  },
  {
   "cell_type": "code",
   "execution_count": 15,
   "id": "0ade1036-8248-460a-95e3-8bcda1bf8ca3",
   "metadata": {},
   "outputs": [],
   "source": [
    "from sklearn.decomposition import LatentDirichletAllocation\n",
    "from sklearn.feature_extraction.text import CountVectorizer\n",
    "\n",
    "vectorizer = CountVectorizer()\n",
    "\n",
    "data_vectorized = vectorizer.fit_transform(df['clean_text'])\n",
    "\n",
    "lda_model = LatentDirichletAllocation(n_components=2)\n",
    "\n",
    "lda_vectors = lda_model.fit_transform(data_vectorized)"
   ]
  },
  {
   "cell_type": "code",
   "execution_count": 16,
   "id": "eb5f4fe6-b04c-4b98-9539-528003d36bd5",
   "metadata": {},
   "outputs": [],
   "source": [
    "def print_topics(model, vectorizer):\n",
    "    for idx, topic in enumerate(model.components_):\n",
    "        print(\"Topic %d:\" % (idx))\n",
    "        print([(vectorizer.get_feature_names_out()[i], topic[i])\n",
    "                        for i in topic.argsort()[:-10 - 1:-1]])"
   ]
  },
  {
   "cell_type": "code",
   "execution_count": 17,
   "id": "f9a8eb7f-aae9-4c84-8954-db7b3a898337",
   "metadata": {},
   "outputs": [
    {
     "name": "stdout",
     "output_type": "stream",
     "text": [
      "Topic 0:\n",
      "[('health', 1571.9079284214429), ('let', 943.8808683084912), ('heart', 827.7921077544836), ('care', 810.1997981890638), ('level', 687.9097778169789), ('keep', 622.5145104056472), ('foot', 596.0127562914278), ('stress', 580.467724431417), ('stay', 574.0762165089029), ('help', 567.63692307989)]\n",
      "Topic 1:\n",
      "[('health', 2227.092071578522), ('help', 1449.363076920077), ('bone', 1102.391224668645), ('also', 1010.5159810447991), ('heart', 990.207892245484), ('improve', 907.221784510356), ('joint', 832.7284418103694), ('level', 788.0902221829889), ('way', 727.0540438457841), ('overall', 716.6390338664414)]\n"
     ]
    }
   ],
   "source": [
    "print_topics(lda_model, vectorizer)"
   ]
  }
 ],
 "metadata": {
  "kernelspec": {
   "display_name": "Python 3 (ipykernel)",
   "language": "python",
   "name": "python3"
  },
  "language_info": {
   "codemirror_mode": {
    "name": "ipython",
    "version": 3
   },
   "file_extension": ".py",
   "mimetype": "text/x-python",
   "name": "python",
   "nbconvert_exporter": "python",
   "pygments_lexer": "ipython3",
   "version": "3.10.6"
  }
 },
 "nbformat": 4,
 "nbformat_minor": 5
}
